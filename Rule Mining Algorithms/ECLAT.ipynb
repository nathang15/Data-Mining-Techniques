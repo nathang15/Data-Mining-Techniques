{
 "cells": [
  {
   "cell_type": "code",
   "execution_count": 1,
   "id": "f0c49906",
   "metadata": {},
   "outputs": [],
   "source": [
    "import numpy as np\n",
    "import pandas as pd\n",
    "import csv\n",
    "from mlxtend.preprocessing import TransactionEncoder\n",
    "import time\n",
    "from pyECLAT import ECLAT"
   ]
  },
  {
   "cell_type": "markdown",
   "id": "695e6e95",
   "metadata": {},
   "source": [
    "## Pre-processing CSV File"
   ]
  },
  {
   "cell_type": "code",
   "execution_count": 2,
   "id": "3da92d2c",
   "metadata": {
    "scrolled": true
   },
   "outputs": [],
   "source": [
    "# Open the CSV file\n",
    "with open(\"D:\\\\393- assignment\\\\grocery_transactions.csv\", newline='') as csvfile:\n",
    "\n",
    "    # Read the CSV file into a dictionary\n",
    "    data = csv.DictReader(csvfile)\n",
    "\n",
    "    # Create an empty list to hold the transactions\n",
    "    transactions = []\n",
    "\n",
    "    # Loop through each row in the CSV file\n",
    "    for row in data:\n",
    "        \n",
    "        # Create a list to hold the items in this transaction\n",
    "        transaction_items = []\n",
    "        \n",
    "        # Loop through each column in the row (excluding the first column, which is the transaction ID)\n",
    "        for column in list(row.keys())[1:]:\n",
    "            \n",
    "            # If the item in this column is not empty, add it to the list of items in this transaction\n",
    "            if row[column] != '':\n",
    "                transaction_items.append(row[column])\n",
    "        \n",
    "        # Add this transaction to the list of transactions\n",
    "        transactions.append(transaction_items)"
   ]
  },
  {
   "cell_type": "code",
   "execution_count": 3,
   "id": "6d1cbb10",
   "metadata": {},
   "outputs": [
    {
     "data": {
      "text/html": [
       "<div>\n",
       "<style scoped>\n",
       "    .dataframe tbody tr th:only-of-type {\n",
       "        vertical-align: middle;\n",
       "    }\n",
       "\n",
       "    .dataframe tbody tr th {\n",
       "        vertical-align: top;\n",
       "    }\n",
       "\n",
       "    .dataframe thead th {\n",
       "        text-align: right;\n",
       "    }\n",
       "</style>\n",
       "<table border=\"1\" class=\"dataframe\">\n",
       "  <thead>\n",
       "    <tr style=\"text-align: right;\">\n",
       "      <th></th>\n",
       "      <th>0</th>\n",
       "      <th>1</th>\n",
       "      <th>2</th>\n",
       "      <th>3</th>\n",
       "      <th>4</th>\n",
       "      <th>5</th>\n",
       "      <th>6</th>\n",
       "    </tr>\n",
       "  </thead>\n",
       "  <tbody>\n",
       "    <tr>\n",
       "      <th>0</th>\n",
       "      <td>cheese</td>\n",
       "      <td>beef</td>\n",
       "      <td>bananas</td>\n",
       "      <td>rice</td>\n",
       "      <td>lettuce</td>\n",
       "      <td>apples</td>\n",
       "      <td>bread</td>\n",
       "    </tr>\n",
       "    <tr>\n",
       "      <th>1</th>\n",
       "      <td>pasta</td>\n",
       "      <td>potatoes</td>\n",
       "      <td>tomatoes</td>\n",
       "      <td>bananas</td>\n",
       "      <td>beef</td>\n",
       "      <td>lettuce</td>\n",
       "      <td>cheese</td>\n",
       "    </tr>\n",
       "    <tr>\n",
       "      <th>2</th>\n",
       "      <td>beef</td>\n",
       "      <td>eggs</td>\n",
       "      <td>pork</td>\n",
       "      <td>tomatoes</td>\n",
       "      <td>milk</td>\n",
       "      <td>apples</td>\n",
       "      <td>chicken</td>\n",
       "    </tr>\n",
       "    <tr>\n",
       "      <th>3</th>\n",
       "      <td>beef</td>\n",
       "      <td>carrots</td>\n",
       "      <td>bread</td>\n",
       "      <td>pasta</td>\n",
       "      <td>tomatoes</td>\n",
       "      <td>milk</td>\n",
       "      <td>onions</td>\n",
       "    </tr>\n",
       "    <tr>\n",
       "      <th>4</th>\n",
       "      <td>pork</td>\n",
       "      <td>beef</td>\n",
       "      <td>apples</td>\n",
       "      <td>lettuce</td>\n",
       "      <td>eggs</td>\n",
       "      <td>milk</td>\n",
       "      <td>bananas</td>\n",
       "    </tr>\n",
       "    <tr>\n",
       "      <th>...</th>\n",
       "      <td>...</td>\n",
       "      <td>...</td>\n",
       "      <td>...</td>\n",
       "      <td>...</td>\n",
       "      <td>...</td>\n",
       "      <td>...</td>\n",
       "      <td>...</td>\n",
       "    </tr>\n",
       "    <tr>\n",
       "      <th>21995</th>\n",
       "      <td>eggs</td>\n",
       "      <td>pasta</td>\n",
       "      <td>beef</td>\n",
       "      <td>potatoes</td>\n",
       "      <td>rice</td>\n",
       "      <td>tomatoes</td>\n",
       "      <td>onions</td>\n",
       "    </tr>\n",
       "    <tr>\n",
       "      <th>21996</th>\n",
       "      <td>pasta</td>\n",
       "      <td>cheese</td>\n",
       "      <td>carrots</td>\n",
       "      <td>onions</td>\n",
       "      <td>lettuce</td>\n",
       "      <td>apples</td>\n",
       "      <td>bread</td>\n",
       "    </tr>\n",
       "    <tr>\n",
       "      <th>21997</th>\n",
       "      <td>lettuce</td>\n",
       "      <td>apples</td>\n",
       "      <td>milk</td>\n",
       "      <td>beef</td>\n",
       "      <td>bread</td>\n",
       "      <td>rice</td>\n",
       "      <td>pork</td>\n",
       "    </tr>\n",
       "    <tr>\n",
       "      <th>21998</th>\n",
       "      <td>milk</td>\n",
       "      <td>potatoes</td>\n",
       "      <td>chicken</td>\n",
       "      <td>bread</td>\n",
       "      <td>beef</td>\n",
       "      <td>tomatoes</td>\n",
       "      <td>pasta</td>\n",
       "    </tr>\n",
       "    <tr>\n",
       "      <th>21999</th>\n",
       "      <td>potatoes</td>\n",
       "      <td>bananas</td>\n",
       "      <td>cheese</td>\n",
       "      <td>milk</td>\n",
       "      <td>lettuce</td>\n",
       "      <td>tomatoes</td>\n",
       "      <td>bread</td>\n",
       "    </tr>\n",
       "  </tbody>\n",
       "</table>\n",
       "<p>22000 rows × 7 columns</p>\n",
       "</div>"
      ],
      "text/plain": [
       "              0         1         2         3         4         5        6\n",
       "0        cheese      beef   bananas      rice   lettuce    apples    bread\n",
       "1         pasta  potatoes  tomatoes   bananas      beef   lettuce   cheese\n",
       "2          beef      eggs      pork  tomatoes      milk    apples  chicken\n",
       "3          beef   carrots     bread     pasta  tomatoes      milk   onions\n",
       "4          pork      beef    apples   lettuce      eggs      milk  bananas\n",
       "...         ...       ...       ...       ...       ...       ...      ...\n",
       "21995      eggs     pasta      beef  potatoes      rice  tomatoes   onions\n",
       "21996     pasta    cheese   carrots    onions   lettuce    apples    bread\n",
       "21997   lettuce    apples      milk      beef     bread      rice     pork\n",
       "21998      milk  potatoes   chicken     bread      beef  tomatoes    pasta\n",
       "21999  potatoes   bananas    cheese      milk   lettuce  tomatoes    bread\n",
       "\n",
       "[22000 rows x 7 columns]"
      ]
     },
     "execution_count": 3,
     "metadata": {},
     "output_type": "execute_result"
    }
   ],
   "source": [
    "#convert transactions into dataframe\n",
    "data = pd.DataFrame(transactions)\n",
    "data"
   ]
  },
  {
   "cell_type": "markdown",
   "id": "1be4c492",
   "metadata": {},
   "source": [
    "## ECLAT"
   ]
  },
  {
   "cell_type": "code",
   "execution_count": 4,
   "id": "2afd5614",
   "metadata": {},
   "outputs": [],
   "source": [
    "# minimum support\n",
    "min_support = 0.1\n",
    "# start from transactions containing at least 2 items and at most 7 items\n",
    "min_combination = 1\n",
    "max_combination = 7"
   ]
  },
  {
   "cell_type": "code",
   "execution_count": null,
   "id": "7de1532b",
   "metadata": {
    "scrolled": false
   },
   "outputs": [
    {
     "name": "stdout",
     "output_type": "stream",
     "text": [
      "Combination 1 by 1\n"
     ]
    },
    {
     "name": "stderr",
     "output_type": "stream",
     "text": [
      "16it [00:00, 86.76it/s]\n"
     ]
    },
    {
     "name": "stdout",
     "output_type": "stream",
     "text": [
      "Combination 2 by 2\n"
     ]
    },
    {
     "name": "stderr",
     "output_type": "stream",
     "text": [
      "120it [00:01, 99.72it/s]\n"
     ]
    },
    {
     "name": "stdout",
     "output_type": "stream",
     "text": [
      "Combination 3 by 3\n"
     ]
    },
    {
     "name": "stderr",
     "output_type": "stream",
     "text": [
      "560it [00:02, 208.04it/s]\n"
     ]
    },
    {
     "name": "stdout",
     "output_type": "stream",
     "text": [
      "Combination 4 by 4\n"
     ]
    },
    {
     "name": "stderr",
     "output_type": "stream",
     "text": [
      "1820it [00:08, 217.98it/s]\n"
     ]
    },
    {
     "name": "stdout",
     "output_type": "stream",
     "text": [
      "Combination 5 by 5\n"
     ]
    },
    {
     "name": "stderr",
     "output_type": "stream",
     "text": [
      "4368it [00:19, 220.50it/s]\n"
     ]
    },
    {
     "name": "stdout",
     "output_type": "stream",
     "text": [
      "Combination 6 by 6\n"
     ]
    },
    {
     "name": "stderr",
     "output_type": "stream",
     "text": [
      "8008it [00:53, 149.79it/s]\n"
     ]
    },
    {
     "name": "stdout",
     "output_type": "stream",
     "text": [
      "Combination 7 by 7\n"
     ]
    },
    {
     "name": "stderr",
     "output_type": "stream",
     "text": [
      "6751it [00:37, 191.56it/s]"
     ]
    }
   ],
   "source": [
    "my_eclat = ECLAT(data=data, verbose=False )\n",
    "start_time = time.time()\n",
    "# fit the algorithm\n",
    "rule_indices, rule_supports = my_eclat.fit(min_support=min_support,\n",
    "                                           min_combination=min_combination,\n",
    "                                           max_combination=max_combination)\n",
    "print(\"--- Total runtime of ECLAT implementation is: %s seconds ---\" % (time.time() - start_time))"
   ]
  },
  {
   "cell_type": "code",
   "execution_count": 6,
   "id": "96bea338",
   "metadata": {},
   "outputs": [
    {
     "data": {
      "text/html": [
       "<div>\n",
       "<style scoped>\n",
       "    .dataframe tbody tr th:only-of-type {\n",
       "        vertical-align: middle;\n",
       "    }\n",
       "\n",
       "    .dataframe tbody tr th {\n",
       "        vertical-align: top;\n",
       "    }\n",
       "\n",
       "    .dataframe thead th {\n",
       "        text-align: right;\n",
       "    }\n",
       "</style>\n",
       "<table border=\"1\" class=\"dataframe\">\n",
       "  <thead>\n",
       "    <tr style=\"text-align: right;\">\n",
       "      <th></th>\n",
       "      <th>Item</th>\n",
       "      <th>Support</th>\n",
       "    </tr>\n",
       "  </thead>\n",
       "  <tbody>\n",
       "    <tr>\n",
       "      <th>9</th>\n",
       "      <td>lettuce</td>\n",
       "      <td>0.442864</td>\n",
       "    </tr>\n",
       "    <tr>\n",
       "      <th>8</th>\n",
       "      <td>apples</td>\n",
       "      <td>0.441500</td>\n",
       "    </tr>\n",
       "    <tr>\n",
       "      <th>0</th>\n",
       "      <td>potatoes</td>\n",
       "      <td>0.441364</td>\n",
       "    </tr>\n",
       "    <tr>\n",
       "      <th>12</th>\n",
       "      <td>milk</td>\n",
       "      <td>0.440864</td>\n",
       "    </tr>\n",
       "    <tr>\n",
       "      <th>3</th>\n",
       "      <td>bananas</td>\n",
       "      <td>0.440182</td>\n",
       "    </tr>\n",
       "    <tr>\n",
       "      <th>...</th>\n",
       "      <td>...</td>\n",
       "      <td>...</td>\n",
       "    </tr>\n",
       "    <tr>\n",
       "      <th>81</th>\n",
       "      <td>tomatoes &amp; chicken</td>\n",
       "      <td>0.170091</td>\n",
       "    </tr>\n",
       "    <tr>\n",
       "      <th>91</th>\n",
       "      <td>chicken &amp; eggs</td>\n",
       "      <td>0.170091</td>\n",
       "    </tr>\n",
       "    <tr>\n",
       "      <th>134</th>\n",
       "      <td>cheese &amp; carrots</td>\n",
       "      <td>0.170091</td>\n",
       "    </tr>\n",
       "    <tr>\n",
       "      <th>95</th>\n",
       "      <td>chicken &amp; pork</td>\n",
       "      <td>0.169045</td>\n",
       "    </tr>\n",
       "    <tr>\n",
       "      <th>98</th>\n",
       "      <td>chicken &amp; onions</td>\n",
       "      <td>0.169000</td>\n",
       "    </tr>\n",
       "  </tbody>\n",
       "</table>\n",
       "<p>136 rows × 2 columns</p>\n",
       "</div>"
      ],
      "text/plain": [
       "                   Item   Support\n",
       "9               lettuce  0.442864\n",
       "8                apples  0.441500\n",
       "0              potatoes  0.441364\n",
       "12                 milk  0.440864\n",
       "3               bananas  0.440182\n",
       "..                  ...       ...\n",
       "81   tomatoes & chicken  0.170091\n",
       "91       chicken & eggs  0.170091\n",
       "134    cheese & carrots  0.170091\n",
       "95       chicken & pork  0.169045\n",
       "98     chicken & onions  0.169000\n",
       "\n",
       "[136 rows x 2 columns]"
      ]
     },
     "execution_count": 6,
     "metadata": {},
     "output_type": "execute_result"
    }
   ],
   "source": [
    "result = pd.DataFrame(rule_supports.items(),columns=['Item', 'Support'])\n",
    "result.sort_values(by=['Support'], ascending=False)"
   ]
  }
 ],
 "metadata": {
  "kernelspec": {
   "display_name": "Python 3 (ipykernel)",
   "language": "python",
   "name": "python3"
  },
  "language_info": {
   "codemirror_mode": {
    "name": "ipython",
    "version": 3
   },
   "file_extension": ".py",
   "mimetype": "text/x-python",
   "name": "python",
   "nbconvert_exporter": "python",
   "pygments_lexer": "ipython3",
   "version": "3.9.13"
  }
 },
 "nbformat": 4,
 "nbformat_minor": 5
}
